{
 "cells": [
  {
   "cell_type": "markdown",
   "metadata": {},
   "source": [
    "## Оценка зависимости цены на нефт марки Brent и ценой на курс доллара к рублю"
   ]
  },
  {
   "cell_type": "markdown",
   "metadata": {},
   "source": [
    "#### В качестве исходных данных, используем данные которые были выгруженны с сайта www.finam.ru, за период с *01.01.2021* по *21.04.2021*"
   ]
  },
  {
   "cell_type": "code",
   "execution_count": 2,
   "metadata": {},
   "outputs": [],
   "source": [
    "brent_file_name = 'ICE.BRN_210101_210421.txt'\n",
    "usd_rub_file_name = 'USDRUB_210101_210421.txt'"
   ]
  },
  {
   "cell_type": "markdown",
   "metadata": {},
   "source": [
    "#### Данные необходимо очистить и преобразовать в удобный нам формат, т.к. некоторых цен(нефть/доллар-рубль) нет за определённые даты. Для этого напишем функцию фильтрации/очистки наших данных"
   ]
  },
  {
   "cell_type": "code",
   "execution_count": 8,
   "metadata": {},
   "outputs": [],
   "source": [
    "def get_data_from_file(fname):\n",
    "    result = {}\n",
    "    with open(fname, 'r') as f:\n",
    "        header_line = f.readline()\n",
    "        for line in f:\n",
    "            date = line.split(',')[2]\n",
    "            close_value = line.split(',')[7]\n",
    "\n",
    "            result[date] = close_value\n",
    "        \n",
    "    return result"
   ]
  },
  {
   "cell_type": "code",
   "execution_count": 10,
   "metadata": {},
   "outputs": [
    {
     "name": "stdout",
     "output_type": "stream",
     "text": [
      "97\n"
     ]
    }
   ],
   "source": [
    "brent_result = get_data_from_file(brent_file_name)\n",
    "usd_rub_result = get_data_from_file(usd_rub_file_name)"
   ]
  },
  {
   "cell_type": "markdown",
   "metadata": {},
   "source": [
    "Сверим даты, и составим список с нашими значениями (нефть, доллар/рубль)\n"
   ]
  },
  {
   "cell_type": "code",
   "execution_count": 26,
   "metadata": {},
   "outputs": [],
   "source": [
    "result_data = [(brent_result[b], usd_rub_result[b]) for b in brent_result if b in usd_rub_result.keys()]"
   ]
  },
  {
   "cell_type": "markdown",
   "metadata": {},
   "source": [
    "Проверим ковариацию и коэффициент корреляции Пирсона, считаем что выборка распределена нормально."
   ]
  },
  {
   "cell_type": "code",
   "execution_count": 35,
   "metadata": {},
   "outputs": [
    {
     "name": "stdout",
     "output_type": "stream",
     "text": [
      "Ковариация равна: -0.0751670332986458, коэффициент корреляции Пирсона равен: -0.012802110574439711\n"
     ]
    }
   ],
   "source": [
    "import numpy as np\n",
    "import pandas as pd\n",
    "\n",
    "brent = np.array([float(b[0]) for b in result_data])\n",
    "usd_rub = np.array([float(u[1]) for u in result_data])\n",
    "\n",
    "brent_usd_rub_cov = np.cov(brent, usd_rub, bias=True)[0][1]\n",
    "\n",
    "std_brent = brent.std()\n",
    "std_usd_rub = usd_rub.std()\n",
    "\n",
    "koef_pirs = brent_usd_rub_cov/(std_brent*std_usd_rub)\n",
    "\n",
    "print(f\"Ковариация равна: {brent_usd_rub_cov}, коэффициент корреляции Пирсона равен: {koef_pirs}\")"
   ]
  },
  {
   "cell_type": "markdown",
   "metadata": {},
   "source": [
    "Вывод: \n",
    "На данных этапах наблюдения можно сказать что обратная ковариация двух независимых величин слабая. Судя по новостным данным за 23 февраля 2021, данная зависимость снижается."
   ]
  },
  {
   "cell_type": "code",
   "execution_count": null,
   "metadata": {},
   "outputs": [],
   "source": []
  }
 ],
 "metadata": {
  "kernelspec": {
   "display_name": "Python 3",
   "language": "python",
   "name": "python3"
  },
  "language_info": {
   "codemirror_mode": {
    "name": "ipython",
    "version": 3
   },
   "file_extension": ".py",
   "mimetype": "text/x-python",
   "name": "python",
   "nbconvert_exporter": "python",
   "pygments_lexer": "ipython3",
   "version": "3.8.5"
  }
 },
 "nbformat": 4,
 "nbformat_minor": 4
}
